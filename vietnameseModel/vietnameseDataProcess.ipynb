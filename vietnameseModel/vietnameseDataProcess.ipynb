{
 "cells": [
  {
   "cell_type": "markdown",
   "metadata": {},
   "source": [
    "<h3>Chuẩn hóa dữ liệu tiếng việt -> đưa về dạng từ điển</h3>"
   ]
  },
  {
   "cell_type": "code",
   "execution_count": 26,
   "metadata": {},
   "outputs": [],
   "source": [
    "import pandas as pd\n",
    "import numpy as np"
   ]
  },
  {
   "cell_type": "markdown",
   "metadata": {},
   "source": [
    "<h4>Đồng bộ unicode</h4>"
   ]
  },
  {
   "cell_type": "code",
   "execution_count": 27,
   "metadata": {},
   "outputs": [],
   "source": [
    "import regex as re\n",
    "\n",
    "def loaddicchar():\n",
    "    dic = {}\n",
    "    char1252 = 'à|á|ả|ã|ạ|ầ|ấ|ẩ|ẫ|ậ|ằ|ắ|ẳ|ẵ|ặ|è|é|ẻ|ẽ|ẹ|ề|ế|ể|ễ|ệ|ì|í|ỉ|ĩ|ị|ò|ó|ỏ|õ|ọ|ồ|ố|ổ|ỗ|ộ|ờ|ớ|ở|ỡ|ợ|ù|ú|ủ|ũ|ụ|ừ|ứ|ử|ữ|ự|ỳ|ý|ỷ|ỹ|ỵ|À|Á|Ả|Ã|Ạ|Ầ|Ấ|Ẩ|Ẫ|Ậ|Ằ|Ắ|Ẳ|Ẵ|Ặ|È|É|Ẻ|Ẽ|Ẹ|Ề|Ế|Ể|Ễ|Ệ|Ì|Í|Ỉ|Ĩ|Ị|Ò|Ó|Ỏ|Õ|Ọ|Ồ|Ố|Ổ|Ỗ|Ộ|Ờ|Ớ|Ở|Ỡ|Ợ|Ù|Ú|Ủ|Ũ|Ụ|Ừ|Ứ|Ử|Ữ|Ự|Ỳ|Ý|Ỷ|Ỹ|Ỵ'.split(\n",
    "        '|')\n",
    "    charutf8 = \"à|á|ả|ã|ạ|ầ|ấ|ẩ|ẫ|ậ|ằ|ắ|ẳ|ẵ|ặ|è|é|ẻ|ẽ|ẹ|ề|ế|ể|ễ|ệ|ì|í|ỉ|ĩ|ị|ò|ó|ỏ|õ|ọ|ồ|ố|ổ|ỗ|ộ|ờ|ớ|ở|ỡ|ợ|ù|ú|ủ|ũ|ụ|ừ|ứ|ử|ữ|ự|ỳ|ý|ỷ|ỹ|ỵ|À|Á|Ả|Ã|Ạ|Ầ|Ấ|Ẩ|Ẫ|Ậ|Ằ|Ắ|Ẳ|Ẵ|Ặ|È|É|Ẻ|Ẽ|Ẹ|Ề|Ế|Ể|Ễ|Ệ|Ì|Í|Ỉ|Ĩ|Ị|Ò|Ó|Ỏ|Õ|Ọ|Ồ|Ố|Ổ|Ỗ|Ộ|Ờ|Ớ|Ở|Ỡ|Ợ|Ù|Ú|Ủ|Ũ|Ụ|Ừ|Ứ|Ử|Ữ|Ự|Ỳ|Ý|Ỷ|Ỹ|Ỵ\".split(\n",
    "        '|')\n",
    "    for i in range(len(char1252)):\n",
    "        dic[char1252[i]] = charutf8[i]\n",
    "    return dic\n",
    " \n",
    "dicchar = loaddicchar()\n",
    " \n",
    "# Đưa toàn bộ dữ liệu qua hàm này để chuẩn hóa lại\n",
    "def convert_unicode(txt):\n",
    "    return re.sub(\n",
    "        r'à|á|ả|ã|ạ|ầ|ấ|ẩ|ẫ|ậ|ằ|ắ|ẳ|ẵ|ặ|è|é|ẻ|ẽ|ẹ|ề|ế|ể|ễ|ệ|ì|í|ỉ|ĩ|ị|ò|ó|ỏ|õ|ọ|ồ|ố|ổ|ỗ|ộ|ờ|ớ|ở|ỡ|ợ|ù|ú|ủ|ũ|ụ|ừ|ứ|ử|ữ|ự|ỳ|ý|ỷ|ỹ|ỵ|À|Á|Ả|Ã|Ạ|Ầ|Ấ|Ẩ|Ẫ|Ậ|Ằ|Ắ|Ẳ|Ẵ|Ặ|È|É|Ẻ|Ẽ|Ẹ|Ề|Ế|Ể|Ễ|Ệ|Ì|Í|Ỉ|Ĩ|Ị|Ò|Ó|Ỏ|Õ|Ọ|Ồ|Ố|Ổ|Ỗ|Ộ|Ờ|Ớ|Ở|Ỡ|Ợ|Ù|Ú|Ủ|Ũ|Ụ|Ừ|Ứ|Ử|Ữ|Ự|Ỳ|Ý|Ỷ|Ỹ|Ỵ',\n",
    "        lambda x: dicchar[x.group()], txt)"
   ]
  },
  {
   "cell_type": "markdown",
   "metadata": {},
   "source": [
    "<h4>Tokenize<h4>"
   ]
  },
  {
   "cell_type": "code",
   "execution_count": 28,
   "metadata": {},
   "outputs": [],
   "source": [
    "from pyvi import ViTokenizer\n",
    "from underthesea import word_tokenize"
   ]
  },
  {
   "cell_type": "markdown",
   "metadata": {},
   "source": [
    "<h4>Remove HTML Code</h4>"
   ]
  },
  {
   "cell_type": "code",
   "execution_count": 29,
   "metadata": {},
   "outputs": [
    {
     "data": {
      "text/plain": [
       "'bk hn test'"
      ]
     },
     "execution_count": 29,
     "metadata": {},
     "output_type": "execute_result"
    }
   ],
   "source": [
    "def remove_html(txt):\n",
    "    return re.sub(r'<[^>]*>', '', txt)\n",
    "\n",
    "txt = \"<p class=\\\"par\\\">bk hn test</p>\"\n",
    "remove_html(txt)"
   ]
  },
  {
   "cell_type": "markdown",
   "metadata": {},
   "source": [
    "<h4>Clean Token</h4>"
   ]
  },
  {
   "cell_type": "code",
   "execution_count": 30,
   "metadata": {},
   "outputs": [],
   "source": [
    "def clean_token(token):\n",
    "    if(token == \"k\" or token == \"ko\" or token == \"khong\" or token == \"kg\"): return \"không\"\n",
    "    if(token == \"dc\" or token == \"đc\"): return \"được\"\n",
    "    if(token == \"siu\"): return \"siêu\"\n",
    "    if(token == \"cx\"): return \"cũng\"\n",
    "    if(token == \"bt\"): return \"bình_thường\"\n",
    "    if(token == \"iu\"): return \"yêu\"\n",
    "    if(token == 'i'): return \"y\"\n",
    "    if(token == \"oke\" or token == \"okie\" or token ==\"okz\"): return \"ok\"\n",
    "    if(token == \"xau\"): return \"xấu\"\n",
    "    if(token == \"tks\"): return \"thanks\"\n",
    "    if(token == \"dep\"): return \"đẹp\"\n",
    "    if(token == \"tam\"): return \"tạm\"\n",
    "    if(token == \"loi\"): return \"lỗi\"\n",
    "    if(token == \"hai long\"): return \"hài_lòng\"\n",
    "    if(token == \"tot\"): return \"tốt\"\n",
    "\n",
    "    return token"
   ]
  },
  {
   "cell_type": "markdown",
   "metadata": {},
   "source": [
    "<h4>Remove stopwords<h4>"
   ]
  },
  {
   "cell_type": "code",
   "execution_count": 31,
   "metadata": {},
   "outputs": [],
   "source": [
    "\n",
    "words =  pd.read_csv('./input/vietnamese-stopwords.txt', header = None)\n",
    "\n",
    "stop_word = set(words.values.ravel())\n",
    "final_stop_word = set()\n",
    "\n",
    "for i in stop_word:\n",
    "    a = i.replace(\" \",\"_\")\n",
    "    final_stop_word.add(a)\n",
    "\n",
    "def remove_stopwords(line):\n",
    "    words = []\n",
    "    for word in line.strip().split():\n",
    "        if word not in final_stop_word:\n",
    "            words.append(word)\n",
    "    return ' '.join(words)\n"
   ]
  },
  {
   "cell_type": "markdown",
   "metadata": {},
   "source": [
    "<h4>Xóa các kí tự thừa</h4>"
   ]
  },
  {
   "cell_type": "code",
   "execution_count": 32,
   "metadata": {},
   "outputs": [],
   "source": [
    "def remove_redundant_character(document):\n",
    "    \n",
    "    document = re.sub(r'[^\\s\\wáàảãạăắằẳẵặâấầẩẫậéèẻẽẹêếềểễệóòỏõọôốồổỗộơớờởỡợíìỉĩịúùủũụưứừửữựýỳỷỹỵđ]',' ',document)\n",
    "    document = re.sub(\"[0-9].kg\", \"\", document) #remove cân nặng\n",
    "    document = re.sub(\"[0-9].k\", \"\", document) #remove giá tiền\n",
    "    document = re.sub(\"[0-9]\", \"\", document) #remove number\n",
    "    cha = ('a','b','c','d','e','f','g','h','i','k','l','m','n','o','p','q','u','z','r','s')\n",
    "    for i in cha:\n",
    "        document = re.sub(f\"{i}{i}*\",f\"{i}\",document)\n",
    "    return document"
   ]
  },
  {
   "cell_type": "markdown",
   "metadata": {},
   "source": [
    "<h4>Đưa về dạng từ điển</h4>"
   ]
  },
  {
   "cell_type": "code",
   "execution_count": 33,
   "metadata": {},
   "outputs": [],
   "source": [
    "def list_to_dict_tokens(cleaned_tokens):\n",
    "        newDict = dict()\n",
    "\n",
    "        for token in cleaned_tokens:\n",
    "            if token in newDict:\n",
    "                newDict[token] += 1\n",
    "            else:\n",
    "                newDict[token] = 1\n",
    "\n",
    "        return newDict"
   ]
  },
  {
   "cell_type": "markdown",
   "metadata": {},
   "source": [
    "<h3>Summary</h3>"
   ]
  },
  {
   "cell_type": "code",
   "execution_count": 34,
   "metadata": {},
   "outputs": [],
   "source": [
    "def text_preprocess(document):\n",
    "    # xóa html code\n",
    "    document = remove_html(document)\n",
    "\n",
    "    # chuẩn hóa unicode\n",
    "    document = convert_unicode(document)\n",
    "\n",
    "    # đưa về lower\n",
    "    document = document.lower()\n",
    "\n",
    "    # xóa các ký tự không cần thiết\n",
    "    document = remove_redundant_character(document)\n",
    "\n",
    "    # xóa khoảng trắng thừa\n",
    "    document = re.sub(r'\\s+', ' ', document).strip()\n",
    "\n",
    "    # tokenize\n",
    "    document = ViTokenizer.tokenize(document)\n",
    "    document = word_tokenize(document)\n",
    "    \n",
    "    # clean tokens\n",
    "    for i in range(0, len(document)):\n",
    "        document[i] = clean_token(document[i])\n",
    "    document = \" \".join(str(e) for e in document)\n",
    "\n",
    "    #remove stopwords\n",
    "    document = remove_stopwords(document)\n",
    "\n",
    "    # đưa về dạng từ điển\n",
    "    # document = document.split(' ')\n",
    "    # document = list_to_dict_tokens(document)\n",
    "    \n",
    "    return document"
   ]
  },
  {
   "cell_type": "markdown",
   "metadata": {},
   "source": [
    "<h3>Process Train Data</h3>"
   ]
  },
  {
   "cell_type": "code",
   "execution_count": 35,
   "metadata": {},
   "outputs": [
    {
     "data": {
      "text/html": [
       "<div>\n",
       "<style scoped>\n",
       "    .dataframe tbody tr th:only-of-type {\n",
       "        vertical-align: middle;\n",
       "    }\n",
       "\n",
       "    .dataframe tbody tr th {\n",
       "        vertical-align: top;\n",
       "    }\n",
       "\n",
       "    .dataframe thead th {\n",
       "        text-align: right;\n",
       "    }\n",
       "</style>\n",
       "<table border=\"1\" class=\"dataframe\">\n",
       "  <thead>\n",
       "    <tr style=\"text-align: right;\">\n",
       "      <th></th>\n",
       "      <th>comment</th>\n",
       "      <th>label</th>\n",
       "      <th>rate</th>\n",
       "    </tr>\n",
       "  </thead>\n",
       "  <tbody>\n",
       "    <tr>\n",
       "      <th>0</th>\n",
       "      <td>Áo bao đẹp ạ!!</td>\n",
       "      <td>POS</td>\n",
       "      <td>5</td>\n",
       "    </tr>\n",
       "    <tr>\n",
       "      <th>1</th>\n",
       "      <td>Tuyệt vời !</td>\n",
       "      <td>POS</td>\n",
       "      <td>5</td>\n",
       "    </tr>\n",
       "    <tr>\n",
       "      <th>2</th>\n",
       "      <td>2day ao khong giong trong.</td>\n",
       "      <td>NEG</td>\n",
       "      <td>1</td>\n",
       "    </tr>\n",
       "    <tr>\n",
       "      <th>3</th>\n",
       "      <td>Mùi thơm,bôi lên da mềm da.</td>\n",
       "      <td>POS</td>\n",
       "      <td>5</td>\n",
       "    </tr>\n",
       "    <tr>\n",
       "      <th>4</th>\n",
       "      <td>Vải đẹp, dày dặn.</td>\n",
       "      <td>POS</td>\n",
       "      <td>5</td>\n",
       "    </tr>\n",
       "    <tr>\n",
       "      <th>...</th>\n",
       "      <td>...</td>\n",
       "      <td>...</td>\n",
       "      <td>...</td>\n",
       "    </tr>\n",
       "    <tr>\n",
       "      <th>31397</th>\n",
       "      <td>áo mút mỏng, mặc đẹp, ngực nhỏ nên chọn size n...</td>\n",
       "      <td>NEU</td>\n",
       "      <td>3</td>\n",
       "    </tr>\n",
       "    <tr>\n",
       "      <th>31402</th>\n",
       "      <td>Chưa dùng voucher chưa biết thế nào, thường đi...</td>\n",
       "      <td>NEU</td>\n",
       "      <td>3</td>\n",
       "    </tr>\n",
       "    <tr>\n",
       "      <th>31409</th>\n",
       "      <td>Mô tả của shop là dưới 55kg mặc được.</td>\n",
       "      <td>NEU</td>\n",
       "      <td>3</td>\n",
       "    </tr>\n",
       "    <tr>\n",
       "      <th>31415</th>\n",
       "      <td>Vải hơi cứng.</td>\n",
       "      <td>NEU</td>\n",
       "      <td>3</td>\n",
       "    </tr>\n",
       "    <tr>\n",
       "      <th>31452</th>\n",
       "      <td>Hàng y hình, đóng gói ko cẩn thận nên quả ngực...</td>\n",
       "      <td>NEU</td>\n",
       "      <td>3</td>\n",
       "    </tr>\n",
       "  </tbody>\n",
       "</table>\n",
       "<p>14098 rows × 3 columns</p>\n",
       "</div>"
      ],
      "text/plain": [
       "                                                 comment label  rate\n",
       "0                                         Áo bao đẹp ạ!!   POS     5\n",
       "1                                            Tuyệt vời !   POS     5\n",
       "2                             2day ao khong giong trong.   NEG     1\n",
       "3                            Mùi thơm,bôi lên da mềm da.   POS     5\n",
       "4                                      Vải đẹp, dày dặn.   POS     5\n",
       "...                                                  ...   ...   ...\n",
       "31397  áo mút mỏng, mặc đẹp, ngực nhỏ nên chọn size n...   NEU     3\n",
       "31402  Chưa dùng voucher chưa biết thế nào, thường đi...   NEU     3\n",
       "31409              Mô tả của shop là dưới 55kg mặc được.   NEU     3\n",
       "31415                                      Vải hơi cứng.   NEU     3\n",
       "31452  Hàng y hình, đóng gói ko cẩn thận nên quả ngực...   NEU     3\n",
       "\n",
       "[14098 rows x 3 columns]"
      ]
     },
     "execution_count": 35,
     "metadata": {},
     "output_type": "execute_result"
    }
   ],
   "source": [
    "df_raw = pd.read_csv('./input/dataVNese.csv', encoding = \"UTF-8\")\n",
    "\n",
    "# lấy số lượng các câu ở mỗi label bằng nhau (4700 câu/1 label) #\n",
    "df_raw.drop(df_raw.iloc[:, 3:], axis = 1, inplace = True)\n",
    "\n",
    "df_raw_neg = df_raw[df_raw['label'] == 'NEG' ]\n",
    "df_raw_neg = df_raw_neg.iloc[:4700]\n",
    "\n",
    "df_raw_neu = df_raw[df_raw['label'] == 'NEU']\n",
    "\n",
    "df_raw_4 = df_raw[df_raw['rate'] == 4]\n",
    "df_raw_5 = df_raw[df_raw['rate'] == 5]\n",
    "\n",
    "df_raw_4 = df_raw_4.iloc[:2350]\n",
    "df_raw_5 = df_raw_5.iloc[:2350]\n",
    "\n",
    "df_raw_pos = pd.concat([df_raw_4, df_raw_5])\n",
    "dataraw_final = pd.concat([df_raw_neg, df_raw_neu, df_raw_pos])\n",
    "\n",
    "dataraw_final = dataraw_final.sort_index()\n",
    "dataraw_final\n"
   ]
  },
  {
   "cell_type": "code",
   "execution_count": 36,
   "metadata": {},
   "outputs": [],
   "source": [
    "# xử lý dữ liệu train #\n",
    "process_comment = []\n",
    "comment = dataraw_final.comment\n",
    "for item in comment:\n",
    "    a = text_preprocess(item)\n",
    "    process_comment.append(a)\n",
    "\n",
    "list_tuples = list(zip(process_comment, dataraw_final.label)) \n",
    "processed_data = pd.DataFrame(list_tuples, columns = ['comment', 'label'])\n",
    "\n",
    "x_train = processed_data['comment']\n",
    "y_train = processed_data['label']"
   ]
  },
  {
   "cell_type": "code",
   "execution_count": 37,
   "metadata": {},
   "outputs": [],
   "source": [
    "\n",
    "#lưu file x_train và y_train#\n",
    "import pickle\n",
    "\n",
    "# with open('x_train.pkl', 'wb') as f:\n",
    "#      pickle.dump(x_train, f)\n",
    "# with open('y_train.pkl', 'wb') as f:\n",
    "#      pickle.dump(y_train, f)  \n",
    "\n",
    "#save file for lib\n",
    "with open('x_trainLib.pkl', 'wb') as f:\n",
    "     pickle.dump(x_train, f)\n",
    "with open('y_trainLib.pkl', 'wb') as f:\n",
    "     pickle.dump(y_train, f)  "
   ]
  },
  {
   "cell_type": "markdown",
   "metadata": {},
   "source": [
    "<h3>Process Test Data</h3>"
   ]
  },
  {
   "cell_type": "code",
   "execution_count": 38,
   "metadata": {},
   "outputs": [],
   "source": [
    "data_test_raw = pd.read_csv('./input/test_concat.csv', encoding='utf-8')\n",
    "data_test_raw.drop(data_test_raw.columns[2], axis= 1, inplace=True)\n",
    "\n",
    "# Gán nhãn dữ liệu #\n",
    "label = []\n",
    "for item in data_test_raw['True_Label']:\n",
    "    if(item == 5 or item == 4): \n",
    "        a = \"POS\"\n",
    "        label.append(a)\n",
    "    elif (item == 3):\n",
    "        a = \"NEU\"\n",
    "        label.append(a)\n",
    "    else:\n",
    "        a = \"NEG\"\n",
    "        label.append(a)\n",
    "\n",
    "\n",
    "data_test_raw['label'] = label\n",
    "\n",
    "data_test_raw.drop(data_test_raw.columns[1], axis = 1, inplace = True)\n"
   ]
  },
  {
   "cell_type": "code",
   "execution_count": 39,
   "metadata": {},
   "outputs": [
    {
     "data": {
      "text/html": [
       "<div>\n",
       "<style scoped>\n",
       "    .dataframe tbody tr th:only-of-type {\n",
       "        vertical-align: middle;\n",
       "    }\n",
       "\n",
       "    .dataframe tbody tr th {\n",
       "        vertical-align: top;\n",
       "    }\n",
       "\n",
       "    .dataframe thead th {\n",
       "        text-align: right;\n",
       "    }\n",
       "</style>\n",
       "<table border=\"1\" class=\"dataframe\">\n",
       "  <thead>\n",
       "    <tr style=\"text-align: right;\">\n",
       "      <th></th>\n",
       "      <th>comment</th>\n",
       "      <th>label</th>\n",
       "    </tr>\n",
       "  </thead>\n",
       "  <tbody>\n",
       "    <tr>\n",
       "      <th>0</th>\n",
       "      <td>Hàng thì ok,nhưng giao k đúng màu đã đat.</td>\n",
       "      <td>NEU</td>\n",
       "    </tr>\n",
       "    <tr>\n",
       "      <th>1</th>\n",
       "      <td>Nhà vận chuyển giao hàng hơi lâu nhưng bù lại ...</td>\n",
       "      <td>POS</td>\n",
       "    </tr>\n",
       "    <tr>\n",
       "      <th>2</th>\n",
       "      <td>-Quần ngắn quá :(.</td>\n",
       "      <td>NEG</td>\n",
       "    </tr>\n",
       "    <tr>\n",
       "      <th>3</th>\n",
       "      <td>Hàng lỗi.</td>\n",
       "      <td>NEG</td>\n",
       "    </tr>\n",
       "    <tr>\n",
       "      <th>4</th>\n",
       "      <td>Sản phẩm tốt Thời gian giao hàng rất nhanh Chấ...</td>\n",
       "      <td>POS</td>\n",
       "    </tr>\n",
       "    <tr>\n",
       "      <th>...</th>\n",
       "      <td>...</td>\n",
       "      <td>...</td>\n",
       "    </tr>\n",
       "    <tr>\n",
       "      <th>4701</th>\n",
       "      <td>Sp đúng mô tả.</td>\n",
       "      <td>NEU</td>\n",
       "    </tr>\n",
       "    <tr>\n",
       "      <th>4703</th>\n",
       "      <td>Áo hơi nhỏ chất lượng in k đẹp lắm nhưng mà gi...</td>\n",
       "      <td>NEU</td>\n",
       "    </tr>\n",
       "    <tr>\n",
       "      <th>4710</th>\n",
       "      <td>Dây nón bị tróc keo bong lên, k dán lại đc.</td>\n",
       "      <td>NEU</td>\n",
       "    </tr>\n",
       "    <tr>\n",
       "      <th>4713</th>\n",
       "      <td>Chất ổn so với giá.</td>\n",
       "      <td>NEU</td>\n",
       "    </tr>\n",
       "    <tr>\n",
       "      <th>4715</th>\n",
       "      <td>Thời gian giao hàng rất nhanh.</td>\n",
       "      <td>NEU</td>\n",
       "    </tr>\n",
       "  </tbody>\n",
       "</table>\n",
       "<p>2115 rows × 2 columns</p>\n",
       "</div>"
      ],
      "text/plain": [
       "                                                comment label\n",
       "0             Hàng thì ok,nhưng giao k đúng màu đã đat.   NEU\n",
       "1     Nhà vận chuyển giao hàng hơi lâu nhưng bù lại ...   POS\n",
       "2                                    -Quần ngắn quá :(.   NEG\n",
       "3                                           Hàng lỗi.   NEG\n",
       "4     Sản phẩm tốt Thời gian giao hàng rất nhanh Chấ...   POS\n",
       "...                                                 ...   ...\n",
       "4701                                     Sp đúng mô tả.   NEU\n",
       "4703  Áo hơi nhỏ chất lượng in k đẹp lắm nhưng mà gi...   NEU\n",
       "4710        Dây nón bị tróc keo bong lên, k dán lại đc.   NEU\n",
       "4713                                Chất ổn so với giá.   NEU\n",
       "4715                     Thời gian giao hàng rất nhanh.   NEU\n",
       "\n",
       "[2115 rows x 2 columns]"
      ]
     },
     "execution_count": 39,
     "metadata": {},
     "output_type": "execute_result"
    }
   ],
   "source": [
    "# lấy số lượng câu ở mỗi nhãn là như nhau#\n",
    "test_raw_neg = data_test_raw[data_test_raw['label'] == 'NEG' ]\n",
    "\n",
    "test_raw_neu = data_test_raw[data_test_raw['label'] == 'NEU']\n",
    "\n",
    "test_raw_pos = data_test_raw[data_test_raw['label'] == 'POS']\n",
    "\n",
    "test_raw_pos = test_raw_pos.iloc[:705]\n",
    "test_raw_neg = test_raw_neg.iloc[:705]\n",
    "\n",
    "test_raw_final = pd.concat([test_raw_pos, test_raw_neu, test_raw_neg])\n",
    "\n",
    "test_raw_final = test_raw_final.sort_index()\n",
    "test_raw_final\n"
   ]
  },
  {
   "cell_type": "code",
   "execution_count": 40,
   "metadata": {},
   "outputs": [],
   "source": [
    "# xử lý dữ liệu test#\n",
    "test_comment = []\n",
    "comment = test_raw_final.comment\n",
    "for item in comment:\n",
    "    a = text_preprocess(item)\n",
    "    test_comment.append(a)\n",
    "\n",
    "list_tuples2 = list(zip(test_comment, test_raw_final.label)) \n",
    "processed_data = pd.DataFrame(list_tuples2, columns = ['comment', 'label'])\n",
    "\n",
    "x_test = processed_data['comment']\n",
    "y_test = processed_data['label']\n"
   ]
  },
  {
   "cell_type": "code",
   "execution_count": 41,
   "metadata": {},
   "outputs": [],
   "source": [
    "\n",
    "# lưu file x_test và y_test  #\n",
    "import pickle\n",
    "# with open('x_test.pkl', 'wb') as f:\n",
    "#      pickle.dump(x_test, f)\n",
    "# with open('y_test.pkl', 'wb') as f:\n",
    "#      pickle.dump(y_test, f) \n",
    "\n",
    "import pickle\n",
    "with open('x_testLib.pkl', 'wb') as f:\n",
    "     pickle.dump(x_test, f)\n",
    "with open('y_testLib.pkl', 'wb') as f:\n",
    "     pickle.dump(y_test, f) "
   ]
  },
  {
   "cell_type": "code",
   "execution_count": 42,
   "metadata": {},
   "outputs": [],
   "source": [
    "# Đọc file train#\n",
    "with open('x_trainLib.pkl', 'rb') as f:\n",
    "      x_train1 = pickle.load(f)\n",
    "with open('y_trainLib.pkl', 'rb') as f:\n",
    "      y_train1 = pickle.load(f)\n",
    "\n",
    "# Đọc file test #\n",
    "with open('x_testLib.pkl', 'rb') as f:\n",
    "      x_test1 = pickle.load(f)\n",
    "with open('y_testLib.pkl', 'rb') as f:\n",
    "      y_test1 = pickle.load(f)\n"
   ]
  },
  {
   "cell_type": "code",
   "execution_count": 43,
   "metadata": {},
   "outputs": [],
   "source": [
    "from sklearn.feature_extraction.text import CountVectorizer\n",
    "from sklearn.feature_extraction.text import TfidfTransformer\n",
    "from sklearn.naive_bayes import MultinomialNB\n",
    "from sklearn.pipeline import Pipeline"
   ]
  },
  {
   "cell_type": "code",
   "execution_count": 59,
   "metadata": {},
   "outputs": [],
   "source": [
    "sentiment_clf = Pipeline([('vect', CountVectorizer(ngram_range=(1,1),\n",
    "                                                    max_df =0.7,\n",
    "                                            max_features=None)), \n",
    "                     ('tfidf', TfidfTransformer()), \n",
    "                     ('clf', MultinomialNB())\n",
    "                    ])\n",
    "sentiment_clf = sentiment_clf.fit(x_train1, y_train1)"
   ]
  },
  {
   "cell_type": "code",
   "execution_count": 60,
   "metadata": {},
   "outputs": [
    {
     "name": "stdout",
     "output_type": "stream",
     "text": [
      "Naive Bayes, Accuracy = 0.7238770685579197\n"
     ]
    }
   ],
   "source": [
    "y_pred = sentiment_clf.predict(x_test1)\n",
    "print('Naive Bayes, Accuracy =', np.mean(y_pred == y_test1))"
   ]
  },
  {
   "cell_type": "code",
   "execution_count": 61,
   "metadata": {},
   "outputs": [
    {
     "data": {
      "image/png": "[encoded data removed]",
      "text/plain": [
       "<Figure size 432x288 with 2 Axes>"
      ]
     },
     "metadata": {
      "needs_background": "light"
     },
     "output_type": "display_data"
    }
   ],
   "source": [
    "from sklearn.metrics import confusion_matrix, plot_confusion_matrix\n",
    "matrix = plot_confusion_matrix(sentiment_clf, x_test1, y_test1)"
   ]
  }
 ],
 "metadata": {
  "interpreter": {
   "hash": "cd8ac7ed5329ff1f59a8356dfddf06d159cf18414acbfd7b13d1d5cd1cbb5d7d"
  },
  "kernelspec": {
   "display_name": "Python 3.8.11 64-bit ('base': conda)",
   "language": "python",
   "name": "python3"
  },
  "language_info": {
   "codemirror_mode": {
    "name": "ipython",
    "version": 3
   },
   "file_extension": ".py",
   "mimetype": "text/x-python",
   "name": "python",
   "nbconvert_exporter": "python",
   "pygments_lexer": "ipython3",
   "version": "3.8.11"
  },
  "orig_nbformat": 4
 },
 "nbformat": 4,
 "nbformat_minor": 2
}
