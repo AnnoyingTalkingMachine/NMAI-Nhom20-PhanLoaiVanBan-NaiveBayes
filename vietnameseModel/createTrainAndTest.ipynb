{
 "cells": [
  {
   "cell_type": "markdown",
   "metadata": {},
   "source": [
    "<h3>Tạo file train và test</h3>"
   ]
  },
  {
   "cell_type": "code",
   "execution_count": 90,
   "metadata": {},
   "outputs": [],
   "source": [
    "import pandas as pd\n",
    "import numpy as np"
   ]
  },
  {
   "cell_type": "code",
   "execution_count": 91,
   "metadata": {},
   "outputs": [
    {
     "data": {
      "text/html": [
       "<div>\n",
       "<style scoped>\n",
       "    .dataframe tbody tr th:only-of-type {\n",
       "        vertical-align: middle;\n",
       "    }\n",
       "\n",
       "    .dataframe tbody tr th {\n",
       "        vertical-align: top;\n",
       "    }\n",
       "\n",
       "    .dataframe thead th {\n",
       "        text-align: right;\n",
       "    }\n",
       "</style>\n",
       "<table border=\"1\" class=\"dataframe\">\n",
       "  <thead>\n",
       "    <tr style=\"text-align: right;\">\n",
       "      <th></th>\n",
       "      <th>comment</th>\n",
       "      <th>rate</th>\n",
       "    </tr>\n",
       "  </thead>\n",
       "  <tbody>\n",
       "    <tr>\n",
       "      <th>0</th>\n",
       "      <td>Áo bao đẹp ạ!!</td>\n",
       "      <td>5</td>\n",
       "    </tr>\n",
       "    <tr>\n",
       "      <th>1</th>\n",
       "      <td>Tuyệt vời !</td>\n",
       "      <td>5</td>\n",
       "    </tr>\n",
       "    <tr>\n",
       "      <th>2</th>\n",
       "      <td>2day ao khong giong trong.</td>\n",
       "      <td>1</td>\n",
       "    </tr>\n",
       "    <tr>\n",
       "      <th>3</th>\n",
       "      <td>Mùi thơm,bôi lên da mềm da.</td>\n",
       "      <td>5</td>\n",
       "    </tr>\n",
       "    <tr>\n",
       "      <th>4</th>\n",
       "      <td>Vải đẹp, dày dặn.</td>\n",
       "      <td>5</td>\n",
       "    </tr>\n",
       "  </tbody>\n",
       "</table>\n",
       "</div>"
      ],
      "text/plain": [
       "                       comment  rate\n",
       "0               Áo bao đẹp ạ!!     5\n",
       "1                  Tuyệt vời !     5\n",
       "2   2day ao khong giong trong.     1\n",
       "3  Mùi thơm,bôi lên da mềm da.     5\n",
       "4            Vải đẹp, dày dặn.     5"
      ]
     },
     "execution_count": 91,
     "metadata": {},
     "output_type": "execute_result"
    }
   ],
   "source": [
    "data = pd.read_csv('./input/Data.csv', encoding='utf-8')\n",
    "data.head()"
   ]
  },
  {
   "cell_type": "code",
   "execution_count": 92,
   "metadata": {},
   "outputs": [],
   "source": [
    "# Gán nhãn dữ liệu #\n",
    "label = []\n",
    "for rate in data['rate']:\n",
    "    if(rate == 5 or rate == 4): \n",
    "        a = \"POS\"\n",
    "        label.append(a)\n",
    "    elif (rate == 3):\n",
    "        a = \"NEU\"\n",
    "        label.append(a)\n",
    "    else:\n",
    "        a = \"NEG\"\n",
    "        label.append(a)\n",
    "data['label'] = label\n",
    "\n",
    "data.drop(data.columns[1], axis = 1, inplace = True)"
   ]
  },
  {
   "cell_type": "code",
   "execution_count": 93,
   "metadata": {},
   "outputs": [],
   "source": [
    "from vneseDataProcess import text_preprocess"
   ]
  },
  {
   "cell_type": "markdown",
   "metadata": {},
   "source": [
    "<h5>Chuyển về dạng string</h5>"
   ]
  },
  {
   "cell_type": "code",
   "execution_count": 94,
   "metadata": {},
   "outputs": [],
   "source": [
    "processed_comments = []\n",
    "comment = data.comment\n",
    "for item in comment:\n",
    "    a = text_preprocess(item)\n",
    "    processed_comments.append(a)\n",
    "\n",
    "list_tuples2 = list(zip(processed_comments, data.label)) \n",
    "processed_data = pd.DataFrame(list_tuples2, columns = ['comment', 'label'])\n"
   ]
  },
  {
   "cell_type": "markdown",
   "metadata": {},
   "source": [
    "<h5>Lọc bỏ empty cmt</h5>"
   ]
  },
  {
   "cell_type": "code",
   "execution_count": 95,
   "metadata": {},
   "outputs": [],
   "source": [
    "\n",
    "nan_value = float(\"NaN\")\n",
    "\n",
    "processed_data.replace(\"\", nan_value, inplace=True)\n",
    "\n",
    "## dữ liệu dạng string\n",
    "processed_data.dropna(subset= ['comment'], inplace=True)"
   ]
  },
  {
   "cell_type": "markdown",
   "metadata": {},
   "source": [
    "<h5>Chuyển về dạng dic</h5>"
   ]
  },
  {
   "cell_type": "code",
   "execution_count": 96,
   "metadata": {},
   "outputs": [],
   "source": [
    "from vneseDataProcess import list_to_dict_tokens\n",
    "\n",
    "dic_comments = []\n",
    "comment = processed_data.comment\n",
    "for item in comment:\n",
    "    item = item.split(' ')\n",
    "    a = list_to_dict_tokens(item)\n",
    "    dic_comments.append(a)\n",
    "\n",
    "list_tuples = list(zip(dic_comments, processed_data.label)) \n",
    "\n",
    "# dữ liệu mà cmt là dạng từ điển\n",
    "final_data = pd.DataFrame(list_tuples, columns = ['comment', 'label'])"
   ]
  },
  {
   "cell_type": "code",
   "execution_count": 97,
   "metadata": {},
   "outputs": [
    {
     "data": {
      "text/plain": [
       "label\n",
       "NEG     7523\n",
       "NEU     5169\n",
       "POS    22689\n",
       "Name: comment, dtype: int64"
      ]
     },
     "execution_count": 97,
     "metadata": {},
     "output_type": "execute_result"
    }
   ],
   "source": [
    "\n",
    "data_label_count = final_data.groupby(['label']).count()['comment']\n",
    "data_label_count"
   ]
  },
  {
   "cell_type": "markdown",
   "metadata": {},
   "source": [
    "<h5>Cắt dữ liệu</h5>"
   ]
  },
  {
   "cell_type": "code",
   "execution_count": 98,
   "metadata": {},
   "outputs": [],
   "source": [
    "# data_neg = processed_data[processed_data['label'] == 'NEG' ]\n",
    "\n",
    "# data_neu = processed_data[processed_data['label'] == 'NEU']\n",
    "\n",
    "# data_pos = processed_data[processed_data['label'] == 'POS']\n",
    "\n",
    "# data_neg = data_neg.iloc[:5170]\n",
    "# data_pos = data_pos.iloc[:5170]\n",
    "\n",
    "data_neg = final_data[final_data['label'] == 'NEG' ]\n",
    "\n",
    "data_neu = final_data[final_data['label'] == 'NEU']\n",
    "\n",
    "data_pos = final_data[final_data['label'] == 'POS']\n",
    "\n",
    "data_neg = data_neg.iloc[:5170]\n",
    "data_pos = data_pos.iloc[:5170]\n",
    "\n",
    "final_data = pd.concat([data_pos, data_neu, data_neg])\n",
    "\n"
   ]
  },
  {
   "cell_type": "code",
   "execution_count": 99,
   "metadata": {},
   "outputs": [
    {
     "data": {
      "text/plain": [
       "label\n",
       "NEG    5170\n",
       "NEU    5169\n",
       "POS    5170\n",
       "Name: comment, dtype: int64"
      ]
     },
     "execution_count": 99,
     "metadata": {},
     "output_type": "execute_result"
    }
   ],
   "source": [
    "final_data = final_data.sample(frac = 1)\n",
    "final_data.groupby(['label']).count()['comment']\n"
   ]
  },
  {
   "cell_type": "code",
   "execution_count": 103,
   "metadata": {},
   "outputs": [
    {
     "data": {
      "text/html": [
       "<div>\n",
       "<style scoped>\n",
       "    .dataframe tbody tr th:only-of-type {\n",
       "        vertical-align: middle;\n",
       "    }\n",
       "\n",
       "    .dataframe tbody tr th {\n",
       "        vertical-align: top;\n",
       "    }\n",
       "\n",
       "    .dataframe thead th {\n",
       "        text-align: right;\n",
       "    }\n",
       "</style>\n",
       "<table border=\"1\" class=\"dataframe\">\n",
       "  <thead>\n",
       "    <tr style=\"text-align: right;\">\n",
       "      <th></th>\n",
       "      <th>comment</th>\n",
       "      <th>label</th>\n",
       "    </tr>\n",
       "  </thead>\n",
       "  <tbody>\n",
       "    <tr>\n",
       "      <th>6243</th>\n",
       "      <td>{'chỉ': 1, 'sợ': 1, 'không': 1, 'xinh': 1}</td>\n",
       "      <td>POS</td>\n",
       "    </tr>\n",
       "    <tr>\n",
       "      <th>21329</th>\n",
       "      <td>{'đẹp': 1, 'bao': 1, 'bị': 1, 'rách': 1, 'tí': 1}</td>\n",
       "      <td>NEU</td>\n",
       "    </tr>\n",
       "    <tr>\n",
       "      <th>4225</th>\n",
       "      <td>{'đẹp': 1, 'rất': 1, 'dễ_thương': 1}</td>\n",
       "      <td>POS</td>\n",
       "    </tr>\n",
       "    <tr>\n",
       "      <th>2977</th>\n",
       "      <td>{'ok': 1}</td>\n",
       "      <td>POS</td>\n",
       "    </tr>\n",
       "    <tr>\n",
       "      <th>20151</th>\n",
       "      <td>{'nam': 1, 'không': 2, 'hiệu_quả': 1}</td>\n",
       "      <td>NEU</td>\n",
       "    </tr>\n",
       "  </tbody>\n",
       "</table>\n",
       "</div>"
      ],
      "text/plain": [
       "                                                 comment label\n",
       "6243          {'chỉ': 1, 'sợ': 1, 'không': 1, 'xinh': 1}   POS\n",
       "21329  {'đẹp': 1, 'bao': 1, 'bị': 1, 'rách': 1, 'tí': 1}   NEU\n",
       "4225                {'đẹp': 1, 'rất': 1, 'dễ_thương': 1}   POS\n",
       "2977                                           {'ok': 1}   POS\n",
       "20151              {'nam': 1, 'không': 2, 'hiệu_quả': 1}   NEU"
      ]
     },
     "execution_count": 103,
     "metadata": {},
     "output_type": "execute_result"
    }
   ],
   "source": [
    "final_data.head()"
   ]
  },
  {
   "cell_type": "markdown",
   "metadata": {},
   "source": [
    "<h5>Phân chia tập train và test (tỉ lệ 8-2)</h5>"
   ]
  },
  {
   "cell_type": "code",
   "execution_count": 101,
   "metadata": {},
   "outputs": [],
   "source": [
    "from sklearn.model_selection import train_test_split\n",
    "import pickle\n",
    "comment = final_data['comment']\n",
    "label = final_data['label']\n",
    "x_train, x_test, y_train, y_test = train_test_split(comment, label, test_size=0.2)\n",
    "\n",
    "# lưu file train\n",
    "with open('x_train.pkl', 'wb') as f:\n",
    "     pickle.dump(x_train, f)\n",
    "with open('y_train.pkl', 'wb') as f:\n",
    "     pickle.dump(y_train, f) \n",
    "\n",
    "#lưu file test\n",
    "with open('x_test.pkl', 'wb') as f:\n",
    "     pickle.dump(x_test, f)\n",
    "with open('y_test.pkl', 'wb') as f:\n",
    "     pickle.dump(y_test, f) "
   ]
  }
 ],
 "metadata": {
  "interpreter": {
   "hash": "cd8ac7ed5329ff1f59a8356dfddf06d159cf18414acbfd7b13d1d5cd1cbb5d7d"
  },
  "kernelspec": {
   "display_name": "Python 3.8.11 64-bit ('base': conda)",
   "language": "python",
   "name": "python3"
  },
  "language_info": {
   "codemirror_mode": {
    "name": "ipython",
    "version": 3
   },
   "file_extension": ".py",
   "mimetype": "text/x-python",
   "name": "python",
   "nbconvert_exporter": "python",
   "pygments_lexer": "ipython3",
   "version": "3.8.11"
  },
  "orig_nbformat": 4
 },
 "nbformat": 4,
 "nbformat_minor": 2
}
