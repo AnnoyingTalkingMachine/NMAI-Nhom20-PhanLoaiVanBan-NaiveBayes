{
 "cells": [
  {
   "cell_type": "markdown",
   "metadata": {},
   "source": [
    "<h3>Train vs model của thư viện skLearn</h3>"
   ]
  },
  {
   "cell_type": "code",
   "execution_count": 1,
   "metadata": {},
   "outputs": [],
   "source": [
    "from sklearn.feature_extraction.text import CountVectorizer\n",
    "from sklearn.feature_extraction.text import TfidfTransformer\n",
    "from sklearn.naive_bayes import MultinomialNB\n",
    "from sklearn.pipeline import Pipeline\n",
    "import numpy as np"
   ]
  },
  {
   "cell_type": "code",
   "execution_count": 2,
   "metadata": {},
   "outputs": [],
   "source": [
    "import pickle\n",
    "#  Đọc file train#\n",
    "with open('x_trainLib.pkl', 'rb') as f:\n",
    "      x_trainLib = pickle.load(f)\n",
    "with open('y_trainLib.pkl', 'rb') as f:\n",
    "      y_trainLib = pickle.load(f)\n",
    "\n",
    "# Đọc file test #\n",
    "with open('x_testLib.pkl', 'rb') as f:\n",
    "      x_testLib = pickle.load(f)\n",
    "with open('y_testLib.pkl', 'rb') as f:\n",
    "      y_testLib = pickle.load(f)"
   ]
  },
  {
   "cell_type": "code",
   "execution_count": 3,
   "metadata": {},
   "outputs": [],
   "source": [
    "sentiment_clf = Pipeline([('vect', CountVectorizer(ngram_range=(1,1),\n",
    "                                                    \n",
    "                                                    max_df = 0.8,\n",
    "                                            max_features=None)), \n",
    "                     ('tfidf', TfidfTransformer()), \n",
    "                     ('clf', MultinomialNB())\n",
    "                    ])\n",
    "sentiment_clf = sentiment_clf.fit(x_trainLib, y_trainLib)"
   ]
  },
  {
   "cell_type": "code",
   "execution_count": 4,
   "metadata": {},
   "outputs": [
    {
     "name": "stdout",
     "output_type": "stream",
     "text": [
      "Naive Bayes, Accuracy = 0.6505480335267569\n"
     ]
    }
   ],
   "source": [
    "y_pred = sentiment_clf.predict(x_testLib)\n",
    "print('Naive Bayes, Accuracy =', np.mean(y_pred == y_testLib))"
   ]
  },
  {
   "cell_type": "code",
   "execution_count": 5,
   "metadata": {},
   "outputs": [
    {
     "data": {
      "image/png": "[encoded data removed]",
      "text/plain": [
       "<Figure size 432x288 with 2 Axes>"
      ]
     },
     "metadata": {
      "needs_background": "light"
     },
     "output_type": "display_data"
    }
   ],
   "source": [
    "from sklearn.metrics import confusion_matrix, plot_confusion_matrix\n",
    "matrix = plot_confusion_matrix(sentiment_clf, x_testLib, y_testLib)"
   ]
  }
 ],
 "metadata": {
  "interpreter": {
   "hash": "cd8ac7ed5329ff1f59a8356dfddf06d159cf18414acbfd7b13d1d5cd1cbb5d7d"
  },
  "kernelspec": {
   "display_name": "Python 3.8.11 64-bit ('base': conda)",
   "language": "python",
   "name": "python3"
  },
  "language_info": {
   "codemirror_mode": {
    "name": "ipython",
    "version": 3
   },
   "file_extension": ".py",
   "mimetype": "text/x-python",
   "name": "python",
   "nbconvert_exporter": "python",
   "pygments_lexer": "ipython3",
   "version": "3.8.11"
  },
  "orig_nbformat": 4
 },
 "nbformat": 4,
 "nbformat_minor": 2
}
