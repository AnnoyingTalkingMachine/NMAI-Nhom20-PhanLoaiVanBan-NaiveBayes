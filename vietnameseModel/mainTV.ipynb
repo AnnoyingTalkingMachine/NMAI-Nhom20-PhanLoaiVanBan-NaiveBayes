{
 "cells": [
  {
   "cell_type": "code",
   "execution_count": 1,
   "metadata": {},
   "outputs": [],
   "source": [
    "\n",
    "import pandas as pd\n",
    "import numpy as np\n",
    "import matplotlib.pyplot as plt"
   ]
  },
  {
   "cell_type": "markdown",
   "metadata": {},
   "source": [
    "<h2>preprocess data</h2>"
   ]
  },
  {
   "cell_type": "code",
   "execution_count": 2,
   "metadata": {},
   "outputs": [],
   "source": [
    "df_raw = pd.read_csv('./input/dataVNese.csv', encoding = \"UTF-8\")\n",
    "\n",
    "# df_raw.drop(df_raw.columns[3], axis = 1, inplace = True)\n",
    "df_raw.drop(df_raw.iloc[:, 3:], axis = 1, inplace = True)"
   ]
  },
  {
   "cell_type": "code",
   "execution_count": 3,
   "metadata": {},
   "outputs": [
    {
     "data": {
      "text/html": [
       "<div>\n",
       "<style scoped>\n",
       "    .dataframe tbody tr th:only-of-type {\n",
       "        vertical-align: middle;\n",
       "    }\n",
       "\n",
       "    .dataframe tbody tr th {\n",
       "        vertical-align: top;\n",
       "    }\n",
       "\n",
       "    .dataframe thead th {\n",
       "        text-align: right;\n",
       "    }\n",
       "</style>\n",
       "<table border=\"1\" class=\"dataframe\">\n",
       "  <thead>\n",
       "    <tr style=\"text-align: right;\">\n",
       "      <th></th>\n",
       "      <th>comment</th>\n",
       "      <th>label</th>\n",
       "      <th>rate</th>\n",
       "    </tr>\n",
       "  </thead>\n",
       "  <tbody>\n",
       "    <tr>\n",
       "      <th>0</th>\n",
       "      <td>Áo bao đẹp ạ!!</td>\n",
       "      <td>POS</td>\n",
       "      <td>5</td>\n",
       "    </tr>\n",
       "    <tr>\n",
       "      <th>1</th>\n",
       "      <td>Tuyệt vời !</td>\n",
       "      <td>POS</td>\n",
       "      <td>5</td>\n",
       "    </tr>\n",
       "    <tr>\n",
       "      <th>2</th>\n",
       "      <td>2day ao khong giong trong.</td>\n",
       "      <td>NEG</td>\n",
       "      <td>1</td>\n",
       "    </tr>\n",
       "    <tr>\n",
       "      <th>3</th>\n",
       "      <td>Mùi thơm,bôi lên da mềm da.</td>\n",
       "      <td>POS</td>\n",
       "      <td>5</td>\n",
       "    </tr>\n",
       "    <tr>\n",
       "      <th>4</th>\n",
       "      <td>Vải đẹp, dày dặn.</td>\n",
       "      <td>POS</td>\n",
       "      <td>5</td>\n",
       "    </tr>\n",
       "    <tr>\n",
       "      <th>5</th>\n",
       "      <td>Hàng rất đẹp, rất chi là ưng ý.</td>\n",
       "      <td>POS</td>\n",
       "      <td>5</td>\n",
       "    </tr>\n",
       "    <tr>\n",
       "      <th>6</th>\n",
       "      <td>Chất lượng sản phẩm tốt, date dài.</td>\n",
       "      <td>POS</td>\n",
       "      <td>5</td>\n",
       "    </tr>\n",
       "    <tr>\n",
       "      <th>7</th>\n",
       "      <td>Ăn nói và thái độ phục vụ tốt.</td>\n",
       "      <td>POS</td>\n",
       "      <td>4</td>\n",
       "    </tr>\n",
       "    <tr>\n",
       "      <th>8</th>\n",
       "      <td>Đóng gói sản phẩm chắc chắn.</td>\n",
       "      <td>POS</td>\n",
       "      <td>5</td>\n",
       "    </tr>\n",
       "    <tr>\n",
       "      <th>9</th>\n",
       "      <td>tất sờn hết ca chưa dùng mà vay r.</td>\n",
       "      <td>NEG</td>\n",
       "      <td>2</td>\n",
       "    </tr>\n",
       "    <tr>\n",
       "      <th>10</th>\n",
       "      <td>Shop phục vụ rất tốt.</td>\n",
       "      <td>POS</td>\n",
       "      <td>5</td>\n",
       "    </tr>\n",
       "    <tr>\n",
       "      <th>11</th>\n",
       "      <td>Mặc thì cũng đc.</td>\n",
       "      <td>NEU</td>\n",
       "      <td>3</td>\n",
       "    </tr>\n",
       "    <tr>\n",
       "      <th>12</th>\n",
       "      <td>Chất vải khỏi chê.</td>\n",
       "      <td>POS</td>\n",
       "      <td>5</td>\n",
       "    </tr>\n",
       "    <tr>\n",
       "      <th>13</th>\n",
       "      <td>Thời gian giao hàng rất nhanh.</td>\n",
       "      <td>POS</td>\n",
       "      <td>5</td>\n",
       "    </tr>\n",
       "    <tr>\n",
       "      <th>14</th>\n",
       "      <td>Chất lượng sản phẩm tuyệt vời.</td>\n",
       "      <td>POS</td>\n",
       "      <td>4</td>\n",
       "    </tr>\n",
       "    <tr>\n",
       "      <th>15</th>\n",
       "      <td>vải hơi thô cứng Thời gian giao hàng nhanh.</td>\n",
       "      <td>POS</td>\n",
       "      <td>5</td>\n",
       "    </tr>\n",
       "    <tr>\n",
       "      <th>16</th>\n",
       "      <td>Chất lượng sp chưa thật sự đẹp nhe shop!</td>\n",
       "      <td>POS</td>\n",
       "      <td>4</td>\n",
       "    </tr>\n",
       "    <tr>\n",
       "      <th>17</th>\n",
       "      <td>Rất đáng tiền Thời gian giao hàng rất nhanh.</td>\n",
       "      <td>POS</td>\n",
       "      <td>5</td>\n",
       "    </tr>\n",
       "    <tr>\n",
       "      <th>18</th>\n",
       "      <td>Quần rất đẹp mặc vừa vặn.</td>\n",
       "      <td>POS</td>\n",
       "      <td>5</td>\n",
       "    </tr>\n",
       "    <tr>\n",
       "      <th>19</th>\n",
       "      <td>Cảm giác mua hàng bị hớ thật tệ!</td>\n",
       "      <td>NEG</td>\n",
       "      <td>2</td>\n",
       "    </tr>\n",
       "  </tbody>\n",
       "</table>\n",
       "</div>"
      ],
      "text/plain": [
       "                                         comment label  rate\n",
       "0                                 Áo bao đẹp ạ!!   POS     5\n",
       "1                                    Tuyệt vời !   POS     5\n",
       "2                     2day ao khong giong trong.   NEG     1\n",
       "3                    Mùi thơm,bôi lên da mềm da.   POS     5\n",
       "4                              Vải đẹp, dày dặn.   POS     5\n",
       "5                Hàng rất đẹp, rất chi là ưng ý.   POS     5\n",
       "6             Chất lượng sản phẩm tốt, date dài.   POS     5\n",
       "7                 Ăn nói và thái độ phục vụ tốt.   POS     4\n",
       "8                   Đóng gói sản phẩm chắc chắn.   POS     5\n",
       "9             tất sờn hết ca chưa dùng mà vay r.   NEG     2\n",
       "10                         Shop phục vụ rất tốt.   POS     5\n",
       "11                              Mặc thì cũng đc.   NEU     3\n",
       "12                            Chất vải khỏi chê.   POS     5\n",
       "13                Thời gian giao hàng rất nhanh.   POS     5\n",
       "14                Chất lượng sản phẩm tuyệt vời.   POS     4\n",
       "15   vải hơi thô cứng Thời gian giao hàng nhanh.   POS     5\n",
       "16      Chất lượng sp chưa thật sự đẹp nhe shop!   POS     4\n",
       "17  Rất đáng tiền Thời gian giao hàng rất nhanh.   POS     5\n",
       "18                     Quần rất đẹp mặc vừa vặn.   POS     5\n",
       "19              Cảm giác mua hàng bị hớ thật tệ!   NEG     2"
      ]
     },
     "execution_count": 3,
     "metadata": {},
     "output_type": "execute_result"
    }
   ],
   "source": [
    "df_raw.head(20)"
   ]
  },
  {
   "cell_type": "code",
   "execution_count": 4,
   "metadata": {},
   "outputs": [
    {
     "data": {
      "text/plain": [
       "rate\n",
       "1     3529\n",
       "2     3140\n",
       "3     4698\n",
       "4     6807\n",
       "5    13286\n",
       "Name: comment, dtype: int64"
      ]
     },
     "execution_count": 4,
     "metadata": {},
     "output_type": "execute_result"
    }
   ],
   "source": [
    "df_raw_type = df_raw.groupby(['rate']).count()['comment']\n",
    "df_raw_type"
   ]
  },
  {
   "cell_type": "code",
   "execution_count": 5,
   "metadata": {},
   "outputs": [
    {
     "data": {
      "text/html": [
       "<div>\n",
       "<style scoped>\n",
       "    .dataframe tbody tr th:only-of-type {\n",
       "        vertical-align: middle;\n",
       "    }\n",
       "\n",
       "    .dataframe tbody tr th {\n",
       "        vertical-align: top;\n",
       "    }\n",
       "\n",
       "    .dataframe thead th {\n",
       "        text-align: right;\n",
       "    }\n",
       "</style>\n",
       "<table border=\"1\" class=\"dataframe\">\n",
       "  <thead>\n",
       "    <tr style=\"text-align: right;\">\n",
       "      <th></th>\n",
       "      <th>comment</th>\n",
       "      <th>label</th>\n",
       "      <th>rate</th>\n",
       "    </tr>\n",
       "  </thead>\n",
       "  <tbody>\n",
       "    <tr>\n",
       "      <th>0</th>\n",
       "      <td>Áo bao đẹp ạ!!</td>\n",
       "      <td>POS</td>\n",
       "      <td>5</td>\n",
       "    </tr>\n",
       "    <tr>\n",
       "      <th>1</th>\n",
       "      <td>Tuyệt vời !</td>\n",
       "      <td>POS</td>\n",
       "      <td>5</td>\n",
       "    </tr>\n",
       "    <tr>\n",
       "      <th>2</th>\n",
       "      <td>2day ao khong giong trong.</td>\n",
       "      <td>NEG</td>\n",
       "      <td>1</td>\n",
       "    </tr>\n",
       "    <tr>\n",
       "      <th>3</th>\n",
       "      <td>Mùi thơm,bôi lên da mềm da.</td>\n",
       "      <td>POS</td>\n",
       "      <td>5</td>\n",
       "    </tr>\n",
       "    <tr>\n",
       "      <th>4</th>\n",
       "      <td>Vải đẹp, dày dặn.</td>\n",
       "      <td>POS</td>\n",
       "      <td>5</td>\n",
       "    </tr>\n",
       "    <tr>\n",
       "      <th>...</th>\n",
       "      <td>...</td>\n",
       "      <td>...</td>\n",
       "      <td>...</td>\n",
       "    </tr>\n",
       "    <tr>\n",
       "      <th>31442</th>\n",
       "      <td>Phí tiền.</td>\n",
       "      <td>NEG</td>\n",
       "      <td>1</td>\n",
       "    </tr>\n",
       "    <tr>\n",
       "      <th>31443</th>\n",
       "      <td>Dùng như k dùng.</td>\n",
       "      <td>NEG</td>\n",
       "      <td>1</td>\n",
       "    </tr>\n",
       "    <tr>\n",
       "      <th>31448</th>\n",
       "      <td>Nt shop onl nhưng k rep.</td>\n",
       "      <td>NEG</td>\n",
       "      <td>1</td>\n",
       "    </tr>\n",
       "    <tr>\n",
       "      <th>31454</th>\n",
       "      <td>Hàng y hình, đóng gói ko cẩn thận nên quả ngực...</td>\n",
       "      <td>NEU</td>\n",
       "      <td>3</td>\n",
       "    </tr>\n",
       "    <tr>\n",
       "      <th>31455</th>\n",
       "      <td>Không đáng tiền.</td>\n",
       "      <td>NEG</td>\n",
       "      <td>1</td>\n",
       "    </tr>\n",
       "  </tbody>\n",
       "</table>\n",
       "<p>18091 rows × 3 columns</p>\n",
       "</div>"
      ],
      "text/plain": [
       "                                                 comment label  rate\n",
       "0                                         Áo bao đẹp ạ!!   POS     5\n",
       "1                                            Tuyệt vời !   POS     5\n",
       "2                             2day ao khong giong trong.   NEG     1\n",
       "3                            Mùi thơm,bôi lên da mềm da.   POS     5\n",
       "4                                      Vải đẹp, dày dặn.   POS     5\n",
       "...                                                  ...   ...   ...\n",
       "31442                                          Phí tiền.   NEG     1\n",
       "31443                                   Dùng như k dùng.   NEG     1\n",
       "31448                           Nt shop onl nhưng k rep.   NEG     1\n",
       "31454  Hàng y hình, đóng gói ko cẩn thận nên quả ngực...   NEU     3\n",
       "31455                                   Không đáng tiền.   NEG     1\n",
       "\n",
       "[18091 rows x 3 columns]"
      ]
     },
     "execution_count": 5,
     "metadata": {},
     "output_type": "execute_result"
    }
   ],
   "source": [
    "df_raw_neg = df_raw[df_raw['label'] == 'NEG' ]\n",
    "\n",
    "df_raw_neu = df_raw[df_raw['label'] == 'NEU']\n",
    "\n",
    "df_raw_4 = df_raw[df_raw['rate'] == 4]\n",
    "df_raw_5 = df_raw[df_raw['rate'] == 5]\n",
    "\n",
    "df_raw_4 = df_raw_4.iloc[:int(len(df_raw_4)/2)]\n",
    "df_raw_5 = df_raw_5.iloc[:int(len(df_raw_5)/4)]\n",
    "\n",
    "df_raw_pos = pd.concat([df_raw_4, df_raw_5])\n",
    "\n",
    "dataraw_final = pd.concat([df_raw_neg, df_raw_neu, df_raw_pos])\n",
    "\n",
    "dataraw_final = dataraw_final.sort_index()\n",
    "dataraw_final\n"
   ]
  },
  {
   "cell_type": "markdown",
   "metadata": {},
   "source": [
    "<h2>Đồng bộ unicode</h2>"
   ]
  },
  {
   "cell_type": "code",
   "execution_count": 6,
   "metadata": {},
   "outputs": [],
   "source": [
    "import regex as re\n",
    " \n",
    "uniChars = \"àáảãạâầấẩẫậăằắẳẵặèéẻẽẹêềếểễệđìíỉĩịòóỏõọôồốổỗộơờớởỡợùúủũụưừứửữựỳýỷỹỵÀÁẢÃẠÂẦẤẨẪẬĂẰẮẲẴẶÈÉẺẼẸÊỀẾỂỄỆĐÌÍỈĨỊÒÓỎÕỌÔỒỐỔỖỘƠỜỚỞỠỢÙÚỦŨỤƯỪỨỬỮỰỲÝỶỸỴÂĂĐÔƠƯ\"\n",
    "unsignChars = \"aaaaaaaaaaaaaaaaaeeeeeeeeeeediiiiiooooooooooooooooouuuuuuuuuuuyyyyyAAAAAAAAAAAAAAAAAEEEEEEEEEEEDIIIOOOOOOOOOOOOOOOOOOOUUUUUUUUUUUYYYYYAADOOU\"\n",
    "\n",
    "def loaddicchar():\n",
    "    dic = {}\n",
    "    char1252 = 'à|á|ả|ã|ạ|ầ|ấ|ẩ|ẫ|ậ|ằ|ắ|ẳ|ẵ|ặ|è|é|ẻ|ẽ|ẹ|ề|ế|ể|ễ|ệ|ì|í|ỉ|ĩ|ị|ò|ó|ỏ|õ|ọ|ồ|ố|ổ|ỗ|ộ|ờ|ớ|ở|ỡ|ợ|ù|ú|ủ|ũ|ụ|ừ|ứ|ử|ữ|ự|ỳ|ý|ỷ|ỹ|ỵ|À|Á|Ả|Ã|Ạ|Ầ|Ấ|Ẩ|Ẫ|Ậ|Ằ|Ắ|Ẳ|Ẵ|Ặ|È|É|Ẻ|Ẽ|Ẹ|Ề|Ế|Ể|Ễ|Ệ|Ì|Í|Ỉ|Ĩ|Ị|Ò|Ó|Ỏ|Õ|Ọ|Ồ|Ố|Ổ|Ỗ|Ộ|Ờ|Ớ|Ở|Ỡ|Ợ|Ù|Ú|Ủ|Ũ|Ụ|Ừ|Ứ|Ử|Ữ|Ự|Ỳ|Ý|Ỷ|Ỹ|Ỵ'.split(\n",
    "        '|')\n",
    "    charutf8 = \"à|á|ả|ã|ạ|ầ|ấ|ẩ|ẫ|ậ|ằ|ắ|ẳ|ẵ|ặ|è|é|ẻ|ẽ|ẹ|ề|ế|ể|ễ|ệ|ì|í|ỉ|ĩ|ị|ò|ó|ỏ|õ|ọ|ồ|ố|ổ|ỗ|ộ|ờ|ớ|ở|ỡ|ợ|ù|ú|ủ|ũ|ụ|ừ|ứ|ử|ữ|ự|ỳ|ý|ỷ|ỹ|ỵ|À|Á|Ả|Ã|Ạ|Ầ|Ấ|Ẩ|Ẫ|Ậ|Ằ|Ắ|Ẳ|Ẵ|Ặ|È|É|Ẻ|Ẽ|Ẹ|Ề|Ế|Ể|Ễ|Ệ|Ì|Í|Ỉ|Ĩ|Ị|Ò|Ó|Ỏ|Õ|Ọ|Ồ|Ố|Ổ|Ỗ|Ộ|Ờ|Ớ|Ở|Ỡ|Ợ|Ù|Ú|Ủ|Ũ|Ụ|Ừ|Ứ|Ử|Ữ|Ự|Ỳ|Ý|Ỷ|Ỹ|Ỵ\".split(\n",
    "        '|')\n",
    "    for i in range(len(char1252)):\n",
    "        dic[char1252[i]] = charutf8[i]\n",
    "    return dic\n",
    " \n",
    "dicchar = loaddicchar()\n",
    " \n",
    "# Đưa toàn bộ dữ liệu qua hàm này để chuẩn hóa lại\n",
    "def convert_unicode(txt):\n",
    "    return re.sub(\n",
    "        r'à|á|ả|ã|ạ|ầ|ấ|ẩ|ẫ|ậ|ằ|ắ|ẳ|ẵ|ặ|è|é|ẻ|ẽ|ẹ|ề|ế|ể|ễ|ệ|ì|í|ỉ|ĩ|ị|ò|ó|ỏ|õ|ọ|ồ|ố|ổ|ỗ|ộ|ờ|ớ|ở|ỡ|ợ|ù|ú|ủ|ũ|ụ|ừ|ứ|ử|ữ|ự|ỳ|ý|ỷ|ỹ|ỵ|À|Á|Ả|Ã|Ạ|Ầ|Ấ|Ẩ|Ẫ|Ậ|Ằ|Ắ|Ẳ|Ẵ|Ặ|È|É|Ẻ|Ẽ|Ẹ|Ề|Ế|Ể|Ễ|Ệ|Ì|Í|Ỉ|Ĩ|Ị|Ò|Ó|Ỏ|Õ|Ọ|Ồ|Ố|Ổ|Ỗ|Ộ|Ờ|Ớ|Ở|Ỡ|Ợ|Ù|Ú|Ủ|Ũ|Ụ|Ừ|Ứ|Ử|Ữ|Ự|Ỳ|Ý|Ỷ|Ỹ|Ỵ',\n",
    "        lambda x: dicchar[x.group()], txt)"
   ]
  },
  {
   "cell_type": "markdown",
   "metadata": {},
   "source": [
    "<h2>Tokenize</h2>"
   ]
  },
  {
   "cell_type": "code",
   "execution_count": 7,
   "metadata": {},
   "outputs": [
    {
     "data": {
      "text/plain": [
       "'Đại_học Bách_Khoa Hà_Nội bình_thường'"
      ]
     },
     "execution_count": 7,
     "metadata": {},
     "output_type": "execute_result"
    }
   ],
   "source": [
    "from pyvi import ViTokenizer\n",
    "\n",
    "string1 = convert_unicode(\"Đại học Bách Khoa Hà Nội bình thường\")\n",
    "\n",
    "ViTokenizer.tokenize(string1)"
   ]
  },
  {
   "cell_type": "code",
   "execution_count": 8,
   "metadata": {},
   "outputs": [
    {
     "data": {
      "text/plain": [
       "['Đại học', 'Bách Khoa', 'Hà Nội', 'bình thường']"
      ]
     },
     "execution_count": 8,
     "metadata": {},
     "output_type": "execute_result"
    }
   ],
   "source": [
    "from underthesea import word_tokenize\n",
    "string2 = convert_unicode(\"Đại học Bách Khoa Hà Nội bình thường\")\n",
    "\n",
    "word_tokenize(string2)"
   ]
  },
  {
   "cell_type": "markdown",
   "metadata": {},
   "source": [
    "<h3>Remove HTML code</h3>"
   ]
  },
  {
   "cell_type": "code",
   "execution_count": 9,
   "metadata": {},
   "outputs": [
    {
     "data": {
      "text/plain": [
       "'bk hn test'"
      ]
     },
     "execution_count": 9,
     "metadata": {},
     "output_type": "execute_result"
    }
   ],
   "source": [
    "def remove_html(txt):\n",
    "    return re.sub(r'<[^>]*>', '', txt)\n",
    "\n",
    "txt = \"<p class=\\\"par\\\">bk hn test</p>\"\n",
    "remove_html(txt)"
   ]
  },
  {
   "cell_type": "markdown",
   "metadata": {},
   "source": [
    "<h2>Clean token</h2>"
   ]
  },
  {
   "cell_type": "code",
   "execution_count": 10,
   "metadata": {},
   "outputs": [],
   "source": [
    "def clean_token(token):\n",
    "    if(token == \"k\" or token == \"ko\" or token == \"khong\"): return \"không\"\n",
    "    if(token == \"dc\" or token == \"đc\"): return \"được\"\n",
    "    if(token == \"sp\"): return \"sản_phẩm\"\n",
    "    if(token == \"e\"): return \"em\"\n",
    "    if(token == 'a'): return \"anh\"\n",
    "    if(token == \"sz\"): return \"size\"\n",
    "    if(token == \"siu\"): return \"siêu\"\n",
    "    if(token == \"cx\"): return \"cũng\"\n",
    "    if(token == \"bt\"): return \"bình_thường\"\n",
    "    if(token == \"iu\"): return \"yêu\"\n",
    "    if(token == 'i'): return \"y\"\n",
    "    if(token == \"oke\" or token == \"okie\" or token ==\"okz\"): return \"ok\"\n",
    "    if(token == \"xau\"): return \"xấu\"\n",
    "    if(token == \"tks\"): return \"thanks\"\n",
    "    if(token == \"dep\"): return \"đẹp\"\n",
    "    if(token == \"tam\"): return \"tạm\"\n",
    "\n",
    "    return token\n",
    "    "
   ]
  },
  {
   "cell_type": "markdown",
   "metadata": {},
   "source": [
    "<h2>Remove stopwords</h2>"
   ]
  },
  {
   "cell_type": "code",
   "execution_count": 11,
   "metadata": {},
   "outputs": [],
   "source": [
    "\n",
    "words =  pd.read_csv('./input/vietnamese-stopwords.txt', header = None)\n",
    "\n",
    "stop_word = set(words.values.ravel())\n",
    "final_stop_word = set()\n",
    "\n",
    "for i in stop_word:\n",
    "    a = i.replace(\" \",\"_\")\n",
    "    final_stop_word.add(a)\n",
    "\n",
    "def remove_stopwords(line):\n",
    "    words = []\n",
    "    for word in line.strip().split():\n",
    "        if word not in final_stop_word:\n",
    "            words.append(word)\n",
    "    return ' '.join(words)\n"
   ]
  },
  {
   "cell_type": "markdown",
   "metadata": {},
   "source": [
    "<h2>Summary: text process</h2>"
   ]
  },
  {
   "cell_type": "code",
   "execution_count": 12,
   "metadata": {},
   "outputs": [],
   "source": [
    "def text_preprocess(document):\n",
    "    # xóa html code\n",
    "    document = remove_html(document)\n",
    "\n",
    "    # chuẩn hóa unicode\n",
    "    document = convert_unicode(document)\n",
    "\n",
    "    # đưa về lower\n",
    "    document = document.lower()\n",
    "\n",
    "    # chuẩn hóa cách gõ dấu tiếng Việt\n",
    "    # document = chuan_hoa_dau_cau_tieng_viet(document)\n",
    "\n",
    "    # xóa các ký tự không cần thiết\n",
    "    document = re.sub(r'[^\\s\\wáàảãạăắằẳẵặâấầẩẫậéèẻẽẹêếềểễệóòỏõọôốồổỗộơớờởỡợíìỉĩịúùủũụưứừửữựýỳỷỹỵđ_]',' ',document)\n",
    "    document = re.sub(\"[0-9].kg\", \"\", document) #remove cân nặng\n",
    "    document = re.sub(\"[0-9].k\", \"\", document) #remove giá tiền\n",
    "    document = re.sub(\"[0-9]\", \"\", document) #remove number\n",
    "    document = re.sub(\"nn*\", \"n\", document) #rm nn\n",
    "    document = re.sub(\"gg*\", \"g\", document) #rm gg\n",
    "    document = re.sub(\"uu*\", \"u\", document) #rm uu\n",
    "    document = re.sub(\"pp*\", \"p\", document) #rm pp\n",
    "\n",
    "\n",
    "    # xóa khoảng trắng thừa\n",
    "    document = re.sub(r'\\s+', ' ', document).strip()\n",
    "\n",
    "    # tokenize\n",
    "    document = ViTokenizer.tokenize(document)\n",
    "    document = word_tokenize(document)\n",
    "    \n",
    "    # clean tokens\n",
    "    for i in range(0, len(document)):\n",
    "        document[i] = clean_token(document[i])\n",
    "    document = \" \".join(str(e) for e in document)\n",
    "\n",
    "    #remove stopwords\n",
    "    document = remove_stopwords(document)\n",
    "    \n",
    "    return document"
   ]
  },
  {
   "cell_type": "markdown",
   "metadata": {},
   "source": [
    "<h3>Make training data</h3>"
   ]
  },
  {
   "cell_type": "code",
   "execution_count": 13,
   "metadata": {},
   "outputs": [],
   "source": [
    "# procesedData = pd.DataFrame(dataraw_final)\n",
    "process_comment = []\n",
    "comment = dataraw_final.comment\n",
    "for item in comment:\n",
    "    a = text_preprocess(item)\n",
    "    process_comment.append(a)\n",
    "\n"
   ]
  },
  {
   "cell_type": "code",
   "execution_count": 15,
   "metadata": {},
   "outputs": [],
   "source": [
    "list_tuples = list(zip(process_comment, dataraw_final.label)) \n",
    "processed_data = pd.DataFrame(list_tuples, columns = ['comment', 'label'])\n",
    "\n",
    "x_train = processed_data['comment']\n",
    "y_train = processed_data['label']\n"
   ]
  },
  {
   "cell_type": "markdown",
   "metadata": {},
   "source": [
    "<h2>Make training model</h2>"
   ]
  },
  {
   "cell_type": "code",
   "execution_count": 16,
   "metadata": {},
   "outputs": [],
   "source": [
    "import pickle\n",
    "import time\n",
    "from sklearn.feature_extraction.text import CountVectorizer\n",
    "from sklearn.feature_extraction.text import TfidfTransformer\n",
    "from sklearn.naive_bayes import MultinomialNB\n",
    "from sklearn.pipeline import Pipeline"
   ]
  },
  {
   "cell_type": "code",
   "execution_count": 17,
   "metadata": {},
   "outputs": [
    {
     "name": "stdout",
     "output_type": "stream",
     "text": [
      "Done training Naive Bayes in 0.17557811737060547 seconds.\n"
     ]
    }
   ],
   "source": [
    "start_time = time.time()\n",
    "text_clf = Pipeline([('vect', CountVectorizer(ngram_range=(1,1),\n",
    "                                             max_df=0.8,\n",
    "                                             max_features=None)), \n",
    "                     ('tfidf', TfidfTransformer()), \n",
    "                     ('clf', MultinomialNB())\n",
    "                    ])\n",
    "text_clf = text_clf.fit(x_train, y_train)\n",
    " \n",
    "train_time = time.time() - start_time\n",
    "print('Done training Naive Bayes in', train_time, 'seconds.')"
   ]
  },
  {
   "cell_type": "markdown",
   "metadata": {},
   "source": [
    "<h2>Process test_data</h2>"
   ]
  },
  {
   "cell_type": "code",
   "execution_count": 18,
   "metadata": {},
   "outputs": [
    {
     "data": {
      "text/html": [
       "<div>\n",
       "<style scoped>\n",
       "    .dataframe tbody tr th:only-of-type {\n",
       "        vertical-align: middle;\n",
       "    }\n",
       "\n",
       "    .dataframe tbody tr th {\n",
       "        vertical-align: top;\n",
       "    }\n",
       "\n",
       "    .dataframe thead th {\n",
       "        text-align: right;\n",
       "    }\n",
       "</style>\n",
       "<table border=\"1\" class=\"dataframe\">\n",
       "  <thead>\n",
       "    <tr style=\"text-align: right;\">\n",
       "      <th></th>\n",
       "      <th>comment</th>\n",
       "      <th>True_Label</th>\n",
       "    </tr>\n",
       "  </thead>\n",
       "  <tbody>\n",
       "    <tr>\n",
       "      <th>0</th>\n",
       "      <td>Hàng thì ok,nhưng giao k đúng màu đã đat.</td>\n",
       "      <td>3</td>\n",
       "    </tr>\n",
       "    <tr>\n",
       "      <th>1</th>\n",
       "      <td>Nhà vận chuyển giao hàng hơi lâu nhưng bù lại ...</td>\n",
       "      <td>4</td>\n",
       "    </tr>\n",
       "    <tr>\n",
       "      <th>2</th>\n",
       "      <td>-Quần ngắn quá :(.</td>\n",
       "      <td>2</td>\n",
       "    </tr>\n",
       "    <tr>\n",
       "      <th>3</th>\n",
       "      <td>Hàng lỗi.</td>\n",
       "      <td>1</td>\n",
       "    </tr>\n",
       "    <tr>\n",
       "      <th>4</th>\n",
       "      <td>Sản phẩm tốt Thời gian giao hàng rất nhanh Chấ...</td>\n",
       "      <td>5</td>\n",
       "    </tr>\n",
       "    <tr>\n",
       "      <th>5</th>\n",
       "      <td>Hàng nhìn đúng hình, chất liệu ổn với tầm giá,...</td>\n",
       "      <td>4</td>\n",
       "    </tr>\n",
       "    <tr>\n",
       "      <th>6</th>\n",
       "      <td>Thời gian giao hàng rất nhanh.</td>\n",
       "      <td>5</td>\n",
       "    </tr>\n",
       "    <tr>\n",
       "      <th>7</th>\n",
       "      <td>Chán quá!</td>\n",
       "      <td>3</td>\n",
       "    </tr>\n",
       "    <tr>\n",
       "      <th>8</th>\n",
       "      <td>Chất lượng sản phẩm tuyệt vời Đóng gói sản phẩ...</td>\n",
       "      <td>5</td>\n",
       "    </tr>\n",
       "    <tr>\n",
       "      <th>9</th>\n",
       "      <td>Đẹp chất ok lắm.</td>\n",
       "      <td>5</td>\n",
       "    </tr>\n",
       "  </tbody>\n",
       "</table>\n",
       "</div>"
      ],
      "text/plain": [
       "                                             comment  True_Label\n",
       "0          Hàng thì ok,nhưng giao k đúng màu đã đat.           3\n",
       "1  Nhà vận chuyển giao hàng hơi lâu nhưng bù lại ...           4\n",
       "2                                 -Quần ngắn quá :(.           2\n",
       "3                                        Hàng lỗi.           1\n",
       "4  Sản phẩm tốt Thời gian giao hàng rất nhanh Chấ...           5\n",
       "5  Hàng nhìn đúng hình, chất liệu ổn với tầm giá,...           4\n",
       "6                     Thời gian giao hàng rất nhanh.           5\n",
       "7                                          Chán quá!           3\n",
       "8  Chất lượng sản phẩm tuyệt vời Đóng gói sản phẩ...           5\n",
       "9                                   Đẹp chất ok lắm.           5"
      ]
     },
     "execution_count": 18,
     "metadata": {},
     "output_type": "execute_result"
    }
   ],
   "source": [
    "data_test_raw = pd.read_csv('./input/test_concat.csv', encoding='utf-8')\n",
    "data_test_raw.drop(data_test_raw.columns[2], axis= 1, inplace=True)\n",
    "\n",
    "data_test_raw.head(10)\n",
    "    \n"
   ]
  },
  {
   "cell_type": "code",
   "execution_count": 19,
   "metadata": {},
   "outputs": [],
   "source": [
    "label = []\n",
    "for item in data_test_raw['True_Label']:\n",
    "    if(item == 5 or item == 4): \n",
    "        a = \"POS\"\n",
    "        label.append(a)\n",
    "    elif (item == 3):\n",
    "        a = \"NEU\"\n",
    "        label.append(a)\n",
    "    else:\n",
    "        a = \"NEG\"\n",
    "        label.append(a)\n",
    "\n"
   ]
  },
  {
   "cell_type": "code",
   "execution_count": 20,
   "metadata": {},
   "outputs": [],
   "source": [
    "data_test_raw['label'] = label\n",
    "\n",
    "data_test_raw.drop(data_test_raw.columns[1], axis = 1, inplace = True)"
   ]
  },
  {
   "cell_type": "code",
   "execution_count": 21,
   "metadata": {},
   "outputs": [
    {
     "data": {
      "text/html": [
       "<div>\n",
       "<style scoped>\n",
       "    .dataframe tbody tr th:only-of-type {\n",
       "        vertical-align: middle;\n",
       "    }\n",
       "\n",
       "    .dataframe tbody tr th {\n",
       "        vertical-align: top;\n",
       "    }\n",
       "\n",
       "    .dataframe thead th {\n",
       "        text-align: right;\n",
       "    }\n",
       "</style>\n",
       "<table border=\"1\" class=\"dataframe\">\n",
       "  <thead>\n",
       "    <tr style=\"text-align: right;\">\n",
       "      <th></th>\n",
       "      <th>comment</th>\n",
       "      <th>label</th>\n",
       "    </tr>\n",
       "  </thead>\n",
       "  <tbody>\n",
       "    <tr>\n",
       "      <th>0</th>\n",
       "      <td>Hàng thì ok,nhưng giao k đúng màu đã đat.</td>\n",
       "      <td>NEU</td>\n",
       "    </tr>\n",
       "    <tr>\n",
       "      <th>1</th>\n",
       "      <td>Nhà vận chuyển giao hàng hơi lâu nhưng bù lại ...</td>\n",
       "      <td>POS</td>\n",
       "    </tr>\n",
       "    <tr>\n",
       "      <th>2</th>\n",
       "      <td>-Quần ngắn quá :(.</td>\n",
       "      <td>NEG</td>\n",
       "    </tr>\n",
       "    <tr>\n",
       "      <th>3</th>\n",
       "      <td>Hàng lỗi.</td>\n",
       "      <td>NEG</td>\n",
       "    </tr>\n",
       "    <tr>\n",
       "      <th>4</th>\n",
       "      <td>Sản phẩm tốt Thời gian giao hàng rất nhanh Chấ...</td>\n",
       "      <td>POS</td>\n",
       "    </tr>\n",
       "    <tr>\n",
       "      <th>5</th>\n",
       "      <td>Hàng nhìn đúng hình, chất liệu ổn với tầm giá,...</td>\n",
       "      <td>POS</td>\n",
       "    </tr>\n",
       "    <tr>\n",
       "      <th>6</th>\n",
       "      <td>Thời gian giao hàng rất nhanh.</td>\n",
       "      <td>POS</td>\n",
       "    </tr>\n",
       "    <tr>\n",
       "      <th>7</th>\n",
       "      <td>Chán quá!</td>\n",
       "      <td>NEU</td>\n",
       "    </tr>\n",
       "    <tr>\n",
       "      <th>8</th>\n",
       "      <td>Chất lượng sản phẩm tuyệt vời Đóng gói sản phẩ...</td>\n",
       "      <td>POS</td>\n",
       "    </tr>\n",
       "    <tr>\n",
       "      <th>9</th>\n",
       "      <td>Đẹp chất ok lắm.</td>\n",
       "      <td>POS</td>\n",
       "    </tr>\n",
       "  </tbody>\n",
       "</table>\n",
       "</div>"
      ],
      "text/plain": [
       "                                             comment label\n",
       "0          Hàng thì ok,nhưng giao k đúng màu đã đat.   NEU\n",
       "1  Nhà vận chuyển giao hàng hơi lâu nhưng bù lại ...   POS\n",
       "2                                 -Quần ngắn quá :(.   NEG\n",
       "3                                        Hàng lỗi.   NEG\n",
       "4  Sản phẩm tốt Thời gian giao hàng rất nhanh Chấ...   POS\n",
       "5  Hàng nhìn đúng hình, chất liệu ổn với tầm giá,...   POS\n",
       "6                     Thời gian giao hàng rất nhanh.   POS\n",
       "7                                          Chán quá!   NEU\n",
       "8  Chất lượng sản phẩm tuyệt vời Đóng gói sản phẩ...   POS\n",
       "9                                   Đẹp chất ok lắm.   POS"
      ]
     },
     "execution_count": 21,
     "metadata": {},
     "output_type": "execute_result"
    }
   ],
   "source": [
    "data_test_raw.head(10)"
   ]
  },
  {
   "cell_type": "code",
   "execution_count": 22,
   "metadata": {},
   "outputs": [],
   "source": [
    "# procesedData = pd.DataFrame(dataraw_final)\n",
    "test_comment = []\n",
    "comment = data_test_raw.comment\n",
    "for item in comment:\n",
    "    a = text_preprocess(item)\n",
    "    test_comment.append(a)"
   ]
  },
  {
   "cell_type": "code",
   "execution_count": 23,
   "metadata": {},
   "outputs": [],
   "source": [
    "list_tuples2 = list(zip(test_comment, data_test_raw.label)) \n",
    "processed_data = pd.DataFrame(list_tuples2, columns = ['comment', 'label'])\n",
    "\n",
    "x_test = processed_data['comment']\n",
    "y_test = processed_data['label']"
   ]
  },
  {
   "cell_type": "markdown",
   "metadata": {},
   "source": [
    "<h2>Đánh giá hiệu năng</h2>"
   ]
  },
  {
   "cell_type": "code",
   "execution_count": 24,
   "metadata": {},
   "outputs": [
    {
     "name": "stdout",
     "output_type": "stream",
     "text": [
      "Naive Bayes, Accuracy = 0.7891502436956982\n"
     ]
    }
   ],
   "source": [
    "y_pred = text_clf.predict(x_test)\n",
    "print('Naive Bayes, Accuracy =', np.mean(y_pred == y_test))"
   ]
  }
 ],
 "metadata": {
  "interpreter": {
   "hash": "cd8ac7ed5329ff1f59a8356dfddf06d159cf18414acbfd7b13d1d5cd1cbb5d7d"
  },
  "kernelspec": {
   "display_name": "Python 3.8.11 64-bit ('base': conda)",
   "language": "python",
   "name": "python3"
  },
  "language_info": {
   "codemirror_mode": {
    "name": "ipython",
    "version": 3
   },
   "file_extension": ".py",
   "mimetype": "text/x-python",
   "name": "python",
   "nbconvert_exporter": "python",
   "pygments_lexer": "ipython3",
   "version": "3.8.11"
  },
  "orig_nbformat": 4
 },
 "nbformat": 4,
 "nbformat_minor": 2
}
